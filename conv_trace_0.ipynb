{
 "metadata": {
  "name": "",
  "signature": "sha256:8eed89b8a19cec7d5048dfbacc2fcffa0a8169824acee88ee0bfb6120b6a1d96"
 },
 "nbformat": 3,
 "nbformat_minor": 0,
 "worksheets": [
  {
   "cells": [
    {
     "cell_type": "code",
     "collapsed": false,
     "input": [
      "import numpy as np\n",
      "from scipy.signal import ricker"
     ],
     "language": "python",
     "metadata": {},
     "outputs": []
    }
   ],
   "metadata": {}
  }
 ]
}