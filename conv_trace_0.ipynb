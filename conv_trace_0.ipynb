{
 "metadata": {
  "name": "",
  "signature": "sha256:05acf3ff37545fb145f09b5c5616ecb5433581c9f47e902059b189716d3ba625"
 },
 "nbformat": 3,
 "nbformat_minor": 0,
 "worksheets": [
  {
   "cells": [
    {
     "cell_type": "code",
     "collapsed": false,
     "input": [
      "%matplotlib inline\n",
      "import numpy as np\n",
      "from scipy.signal import ricker\n",
      "import matplotlib.pyplot as plt"
     ],
     "language": "python",
     "metadata": {},
     "outputs": [],
     "prompt_number": 1
    },
    {
     "cell_type": "code",
     "collapsed": false,
     "input": [
      "n_samples, n_traces = [600, 500]\n",
      "rock_names = ['shale 1', 'sand', 'shale 2']\n",
      "rock_grid = np.zeros((n_samples, n_traces))\n",
      "\n",
      "def make_wedge(n_samples, n_traces, layer_1_thickness, start_wedge, end_wedge):\n",
      "    for j in np.arange(n_traces): \n",
      "        for i in np.arange(n_samples):      \n",
      "            if i <= layer_1_thickness:      \n",
      "                rock_grid[i][j] = 1    \n",
      "            if i > layer_1_thickness:         \n",
      "                rock_grid[i][j] = 3    \n",
      "                if j >= start_wedge and i - layer_1_thickness < j-start_wedge: \n",
      "                    rock_grid[i][j] = 2\n",
      "                    if j >= end_wedge and i > layer_1_thickness+(end_wedge-start_wedge):\n",
      "                        rock_grid[i][j] = 3\n",
      "    return rock_grid\n",
      "layer_1_thickness = 200\n",
      "start_wedge = 50\n",
      "end_wedge = 250\n",
      "rock_grid = make_wedge(n_samples, n_traces, \n",
      "            layer_1_thickness, start_wedge, \n",
      "            end_wedge)\n",
      "\n",
      "plt.imshow(rock_grid, cmap='copper_r')\n",
      "plt.show()"
     ],
     "language": "python",
     "metadata": {},
     "outputs": [
      {
       "metadata": {},
       "output_type": "display_data",
       "png": "[encoded data removed]",
       "text": [
        "<matplotlib.figure.Figure at 0x7f5cea11a7d0>"
       ]
      }
     ],
     "prompt_number": 2
    },
    {
     "cell_type": "code",
     "collapsed": false,
     "input": [
      "vp = np.array([3300., 3200., 3300.])\n",
      "model = np.copy(rock_grid)\n",
      "model[rock_grid == 1] = vp[0]\n",
      "model[rock_grid == 2] = vp[1]\n",
      "model[rock_grid == 3] = vp[2]\n",
      "plt.imshow(model, cmap='Spectral')\n",
      "plt.colorbar()\n",
      "plt.title('Velocities')\n",
      "plt.show()"
     ],
     "language": "python",
     "metadata": {},
     "outputs": [
      {
       "metadata": {},
       "output_type": "display_data",
       "png": "[encoded data removed]",
       "text": [
        "<matplotlib.figure.Figure at 0x7f5cea11a390>"
       ]
      }
     ],
     "prompt_number": 3
    },
    {
     "cell_type": "code",
     "collapsed": false,
     "input": [
      "upper = model[:-1][:]\n",
      "lower = model[1:][:]\n",
      "rc = (lower - upper) / (lower + upper)\n",
      "maxrc = abs(np.amax(rc))\n",
      "plt.imshow(rc)\n",
      "plt.colorbar()\n",
      "plt.title('RC')\n",
      "plt.show()"
     ],
     "language": "python",
     "metadata": {},
     "outputs": [
      {
       "metadata": {},
       "output_type": "display_data",
       "png": "[encoded data removed]",
       "text": [
        "<matplotlib.figure.Figure at 0x7f5ce9907710>"
       ]
      }
     ],
     "prompt_number": 9
    },
    {
     "cell_type": "code",
     "collapsed": false,
     "input": [
      "len(rc)\n",
      "np.shape(rc)"
     ],
     "language": "python",
     "metadata": {},
     "outputs": [
      {
       "metadata": {},
       "output_type": "pyout",
       "prompt_number": 15,
       "text": [
        "(599, 500)"
       ]
      }
     ],
     "prompt_number": 15
    },
    {
     "cell_type": "code",
     "collapsed": false,
     "input": [
      "rc[400][305]"
     ],
     "language": "python",
     "metadata": {},
     "outputs": [
      {
       "metadata": {},
       "output_type": "pyout",
       "prompt_number": 25,
       "text": [
        "0.015384615384615385"
       ]
      }
     ],
     "prompt_number": 25
    },
    {
     "cell_type": "code",
     "collapsed": false,
     "input": [],
     "language": "python",
     "metadata": {},
     "outputs": [],
     "prompt_number": 19
    }
   ],
   "metadata": {}
  }
 ]
}